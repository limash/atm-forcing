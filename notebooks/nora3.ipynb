{
 "cells": [
  {
   "cell_type": "code",
   "execution_count": null,
   "id": "a5e00779",
   "metadata": {},
   "outputs": [],
   "source": [
    "from datetime import datetime\n",
    "\n",
    "import xarray as xr\n",
    "from siphon.catalog import TDSCatalog"
   ]
  },
  {
   "cell_type": "code",
   "execution_count": null,
   "id": "158a8398",
   "metadata": {},
   "outputs": [],
   "source": [
    "cf_roms = (\n",
    "    (\"x_wind_10m\", \"height4\", \"Uwind\", \"wind_time\"),\n",
    "    (\"y_wind_10m\", \"height4\", \"Vwind\", \"wind_time\"),\n",
    "    (\"integral_of_surface_net_downward_shortwave_flux_wrt_time\", \"height0\", \"swrad\", \"swrad_time\"),  # accumulated\n",
    "    (\"specific_humidity_2m\", \"height1\", \"Qair\", \"qair_time\"),\n",
    "    (\"air_temperature_2m\", \"height1\", \"Tair\", \"Tair_time\"),  # Kelvin -> to Celsius\n",
    "    (\"precipitation_amount_acc\", \"height0\", \"rain\", \"rain_time\"),  # accumulated\n",
    "    (\"air_pressure_at_sea_level\", \"height_above_msl\", \"Pair\", \"pair_time\"),\n",
    "    (\n",
    "        \"integral_of_surface_downwelling_longwave_flux_in_air_wrt_time\",\n",
    "        \"height0\",\n",
    "        \"lwrad_down\",\n",
    "        \"lwrad_time\",\n",
    "    ),  # accumulated; units - 1 watt = 1 joule per second.\n",
    "    (\"cloud_area_fraction\", \"height3\", \"cloud\", \"cloud_time\"),\n",
    ")"
   ]
  },
  {
   "cell_type": "code",
   "execution_count": null,
   "id": "54516fed",
   "metadata": {},
   "outputs": [],
   "source": [
    "parameters = [x[0] for x in cf_roms]"
   ]
  },
  {
   "cell_type": "code",
   "execution_count": null,
   "id": "a76c26ee",
   "metadata": {},
   "outputs": [],
   "source": [
    "def generate_catalog_urls(start_year=2010, end_year=2020):\n",
    "    hours = 0, 6, 12, 18\n",
    "    for year in range(start_year, end_year + 1):\n",
    "        for month in range(1, 13):\n",
    "            for day in range(1, 32):\n",
    "                try:\n",
    "                    datetime(year, month, day)  # validate date\n",
    "                except ValueError:\n",
    "                    continue\n",
    "                for hour in hours:\n",
    "                    yield (\n",
    "                        datetime(year, month, day, hour), f\"https://thredds.met.no/thredds/catalog/nora3/{year}/{month:02d}/{day:02d}/{hour:02d}/catalog.xml\"\n",
    "                    )"
   ]
  },
  {
   "cell_type": "code",
   "execution_count": null,
   "id": "fc14ad9f",
   "metadata": {},
   "outputs": [],
   "source": [
    "dss = []\n",
    "for date_and_time, catalog_url in generate_catalog_urls():\n",
    "    print(f\"Processing {catalog_url}\")\n",
    "    cat = TDSCatalog(catalog_url)\n",
    "    urls = [v.access_urls[\"opendap\"] for k, v in cat.datasets.items() if \"_fp\" in k]\n",
    "    ds = xr.open_mfdataset(urls, combine=\"by_coords\", compat=\"no_conflicts\", data_vars=\"all\")[parameters]\n",
    "    # filename = date_and_time.strftime(\"%Y%m%d_%H%M\") + \".nc\"\n",
    "    # ds.to_netcdf(filename, mode=\"w\")\n",
    "    # comp = dict(zlib=True, complevel=5)\n",
    "    # encoding = {var: comp for var in ds.data_vars}\n",
    "    # ds.to_netcdf(\"foo.nc\", encoding=encoding)\n",
    "    dss.append(ds)\n",
    "    if len(dss) > 2:\n",
    "        break"
   ]
  },
  {
   "cell_type": "code",
   "execution_count": null,
   "id": "563e7f76",
   "metadata": {},
   "outputs": [],
   "source": []
  }
 ],
 "metadata": {
  "kernelspec": {
   "display_name": "atm-forcing",
   "language": "python",
   "name": "python3"
  },
  "language_info": {
   "codemirror_mode": {
    "name": "ipython",
    "version": 3
   },
   "file_extension": ".py",
   "mimetype": "text/x-python",
   "name": "python",
   "nbconvert_exporter": "python",
   "pygments_lexer": "ipython3",
   "version": "3.13.9"
  }
 },
 "nbformat": 4,
 "nbformat_minor": 5
}
