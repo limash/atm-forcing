{
 "cells": [
  {
   "cell_type": "code",
   "execution_count": null,
   "id": "5068b13d",
   "metadata": {},
   "outputs": [],
   "source": [
    "import glob\n",
    "import os\n",
    "\n",
    "import xarray as xr"
   ]
  },
  {
   "cell_type": "code",
   "execution_count": null,
   "id": "51de3c9b",
   "metadata": {},
   "outputs": [],
   "source": [
    "home_path = os.path.expanduser(\"~\")\n",
    "files = glob.glob(f\"{home_path}/dump_fram_nn9297k/ERA5/concatenated/*.nc\")"
   ]
  },
  {
   "cell_type": "code",
   "execution_count": null,
   "id": "72642a03",
   "metadata": {},
   "outputs": [],
   "source": [
    "for num, file in enumerate(files):\n",
    "    print(f\"File #{num}: {file}\")"
   ]
  },
  {
   "cell_type": "code",
   "execution_count": null,
   "id": "7fe07848",
   "metadata": {},
   "outputs": [],
   "source": [
    "ds = xr.open_dataset(files[9])\n",
    "ds"
   ]
  },
  {
   "cell_type": "code",
   "execution_count": null,
   "id": "b0f189bf",
   "metadata": {},
   "outputs": [],
   "source": [
    "ds[\"cloud\"].isel(cloud_time=0).plot()"
   ]
  },
  {
   "cell_type": "code",
   "execution_count": null,
   "id": "98233a7d",
   "metadata": {},
   "outputs": [],
   "source": []
  }
 ],
 "metadata": {
  "kernelspec": {
   "display_name": "atm-forcing",
   "language": "python",
   "name": "python3"
  },
  "language_info": {
   "codemirror_mode": {
    "name": "ipython",
    "version": 3
   },
   "file_extension": ".py",
   "mimetype": "text/x-python",
   "name": "python",
   "nbconvert_exporter": "python",
   "pygments_lexer": "ipython3",
   "version": "3.13.9"
  }
 },
 "nbformat": 4,
 "nbformat_minor": 5
}
